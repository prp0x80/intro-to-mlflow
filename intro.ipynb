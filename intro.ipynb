{
 "cells": [
  {
   "cell_type": "raw",
   "metadata": {},
   "source": [
    "---\n",
    "title: \"Introduction to MLflow\"\n",
    "execute:\n",
    "  echo: false\n",
    "format: \n",
    "  html:\n",
    "    code-fold: true\n",
    "jupyter: python3\n",
    "---"
   ]
  },
  {
   "cell_type": "markdown",
   "metadata": {},
   "source": [
    "## Traditional Software vs. Machine Learning\n",
    "\n",
    "Machine Learning Development is complex, mainly due to the evolution of model from conception through to deployment.\n",
    "\n",
    "| Traditional Software                                                 | Machine Learning                                                                |\n",
    "|----------------------------------------------------------------------|---------------------------------------------------------------------------------|\n",
    "| Goal: Meet a functional specification                                | Goal: Optimize metric (e.g. accuracy)  <br>Constantly experiment to improve it. |\n",
    "| Quality depends only on code                                         | Quality depends on input data and    <br>tuning parmeters                       |\n",
    "| Typically pick one software stack w/  <br>fewer libraries and tools  | Compare + combine many libraries,  <br>models                                   |\n",
    "| Limited deployment environments                                      | Diverse deployment environments                                                 |"
   ]
  }
 ],
 "metadata": {
  "kernelspec": {
   "display_name": "Python 3",
   "language": "python",
   "name": "python3"
  },
  "language_info": {
   "codemirror_mode": {
    "name": "ipython",
    "version": 3
   },
   "file_extension": ".py",
   "mimetype": "text/x-python",
   "name": "python",
   "nbconvert_exporter": "python",
   "pygments_lexer": "ipython3",
   "version": "3.8.13 (default, Oct  4 2022, 14:00:32) \n[GCC 9.4.0]"
  },
  "orig_nbformat": 4,
  "vscode": {
   "interpreter": {
    "hash": "9ac03a0a6051494cc606d484d27d20fce22fb7b4d169f583271e11d5ba46a56e"
   }
  }
 },
 "nbformat": 4,
 "nbformat_minor": 2
}
