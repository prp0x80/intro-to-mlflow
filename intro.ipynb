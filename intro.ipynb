{
 "cells": [
  {
   "cell_type": "raw",
   "metadata": {},
   "source": [
    "---\n",
    "execute:\n",
    "  echo: false\n",
    "format: \n",
    "  html:\n",
    "    code-fold: true\n",
    "jupyter: python3\n",
    "---"
   ]
  },
  {
   "cell_type": "markdown",
   "metadata": {},
   "source": [
    "# Managing the complete Machine Learning Lifecycle with MLflow"
   ]
  },
  {
   "cell_type": "markdown",
   "metadata": {},
   "source": [
    "Machine Learning (ML) development brings many new complexities beyond the traditional software development lifecycle. Unlike in traditional software development, ML developers want to try multiple algorithms, tools and parameters to get the best results, and they need to track this information to reproduce work. In addition, developers need to use many distinct systems to productionize models.\n",
    "\n",
    "To solve these challenges, [MLflow](https://mlflow.org/), an open source project, simplifies the entire ML lifecycle. MLflow introduces simple abstractions to package reproducible projects^\\*^, track results, encapsulate models that can be used with many existing tools, and central repository to share models^\\*^, accelerating the ML lifecycle for organizations of any size.  \n",
    "\n",
    "^\\*^_packaging projects and central model repository is not within the scope of this training_"
   ]
  },
  {
   "cell_type": "markdown",
   "metadata": {},
   "source": [
    "## What you will learn"
   ]
  },
  {
   "cell_type": "markdown",
   "metadata": {},
   "source": [
    "How each component of MLflow helps address challenges of the ML lifecycle.\n",
    "\n",
    "- How to use [MLflow Tracking](https://mlflow.org/docs/latest/tracking.html) to record and query experiments: code, data, config, and results. \n",
    "- How to use [MLflow Models](https://mlflow.org/docs/latest/models.html) general format to send models to diverse deployment tools.\n",
    "- How to use [MLflow Tracking UI](https://mlflow.org/docs/latest/tracking.html#tracking-ui) to visually compare and contrast experimental runs with different tuning parameters and evaluate metrics. \n",
    "\n",
    "::: {.callout-note}\n",
    "There are four MLflow components, viz., MLflow Tracking, MLflow Models, MLflow Projects and MLflow Registry.  \n",
    "MLflow Models and MLflow Registry are out of scope for this training.\n",
    ":::"
   ]
  },
  {
   "cell_type": "markdown",
   "metadata": {},
   "source": [
    "## Traditional Software vs. Machine Learning"
   ]
  },
  {
   "cell_type": "markdown",
   "metadata": {},
   "source": [
    "Developing machine learning applications is complex, and the complexity doesn't necessarity strive from the fact that the theory behind the machine learning is difficult, or the math is difficult or the algorithm which are presented are difficult. Although there is some element of complexity, the machine learning frameworks makes it easier by abstracting away the details and exposing a simple class interface to initialise and train the model. In fact the default paramters gives pretty much a good baseline model to work with."
   ]
  },
  {
   "cell_type": "markdown",
   "metadata": {},
   "source": [
    "| Traditional Software                                                 | Machine Learning                                                                |\n",
    "|----------------------------------------------------------------------|---------------------------------------------------------------------------------|\n",
    "| Goal: Meet a functional specification                                | Goal: Optimize metric (e.g. accuracy)  <br>Constantly experiment to improve it. |\n",
    "| Quality depends only on code                                         | Quality depends on input data and    <br>tuning parmeters                       |\n",
    "| Typically pick one software stack w/  <br>fewer libraries and tools  | Compare + combine many libraries,  <br>models                                   |\n",
    "| Limited deployment environments                                      | Diverse deployment environments                                                 |\n"
   ]
  },
  {
   "cell_type": "markdown",
   "metadata": {},
   "source": [
    "## Machine Learning Lifecycle"
   ]
  },
  {
   "cell_type": "markdown",
   "metadata": {},
   "source": [
    "Following are four stages of a machine learning lifecycle, there can be other stages is between, but these are the paramount stages -\n",
    "\n",
    "- **Data Ingestion** - Depending on the nature of data you might use one of the many data technologies for staging the data e.g., Hadoop, Kafka, S3, Delta lake, etc.\n",
    "- **Data Preparation** - As per requirement and ease of use you might use a library in different language for preparing the data e.g., Spark, Pandas, Scikit-Learn, R, Java, etc.\n",
    "- **Training** - Depending on the problem and type of data you might use different libraries or framework for training the model e.g., Scikit-Learn, TensorFlow, PyTorch, Xgboost, etc.\n",
    "- **Deployment** - Based on the type of model and how you want to serve the results there are many deployment options like Docker, Kubernetes, TensorFlow serving, Flask, etc.\n",
    "\n",
    "![ML steps to serve the model as a prediction service](mlops.png)"
   ]
  },
  {
   "cell_type": "markdown",
   "metadata": {},
   "source": [
    "## Challenges in managing Machine Learning lifecycle"
   ]
  },
  {
   "cell_type": "markdown",
   "metadata": {},
   "source": [
    "- Each stage has it’s own requirements and tools\n",
    "- Some stages (data preparation and training) rely on tuning parameters\n",
    "- Each stage has it’s own scaling requirements\n",
    "- Ensuring the same model that yielded optimal performance is deployed\n",
    "- Governance and provenance - how the model evolved, who used it, when it was used so on and so forth."
   ]
  },
  {
   "cell_type": "markdown",
   "metadata": {},
   "source": [
    "## Introducing MLflow"
   ]
  },
  {
   "cell_type": "markdown",
   "metadata": {},
   "source": [
    "Open Machine Learning platform  \n",
    "\n",
    "- ML Library and language agnostic framework - supports all popular ML libraries\n",
    "- Supports both local and cloud development environments\n",
    "- Simple and modular to use - can be simply infused into existing ML code\n",
    "- Easy to get started, hence positive developer experience!"
   ]
  }
 ],
 "metadata": {
  "kernelspec": {
   "display_name": "Python 3",
   "language": "python",
   "name": "python3"
  },
  "language_info": {
   "codemirror_mode": {
    "name": "ipython",
    "version": 3
   },
   "file_extension": ".py",
   "mimetype": "text/x-python",
   "name": "python",
   "nbconvert_exporter": "python",
   "pygments_lexer": "ipython3",
   "version": "3.8.13 (default, Oct  4 2022, 14:00:32) \n[GCC 9.4.0]"
  },
  "orig_nbformat": 4,
  "vscode": {
   "interpreter": {
    "hash": "9ac03a0a6051494cc606d484d27d20fce22fb7b4d169f583271e11d5ba46a56e"
   }
  }
 },
 "nbformat": 4,
 "nbformat_minor": 2
}
