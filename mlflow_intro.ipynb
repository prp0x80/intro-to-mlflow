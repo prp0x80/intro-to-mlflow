{
 "cells": [
  {
   "cell_type": "raw",
   "metadata": {},
   "source": [
    "---\n",
    "execute:\n",
    "  echo: false\n",
    "format: \n",
    "  html:\n",
    "    code-fold: true\n",
    "jupyter: python3\n",
    "---"
   ]
  },
  {
   "cell_type": "markdown",
   "metadata": {},
   "source": [
    "# Introducing MLflow"
   ]
  },
  {
   "cell_type": "markdown",
   "metadata": {},
   "source": [
    "MLflow is an open source platform to manage the ML lifecycle, including experimentation, reproducibility, deployment, and a central model registry."
   ]
  },
  {
   "cell_type": "markdown",
   "metadata": {},
   "source": [
    "- It is ML library and language agnostic framework, i.e., it supports all popular ML libraries\n",
    "- It supports both local and cloud development environments\n",
    "- It is simple and modular to use - can be simply infused into existing ML code\n",
    "- It is easy to get started, hence delivers positive developer experience!"
   ]
  },
  {
   "cell_type": "markdown",
   "metadata": {},
   "source": [
    "## MLflow Components"
   ]
  },
  {
   "cell_type": "markdown",
   "metadata": {},
   "source": [
    "MLflow currently offers four components:\n",
    "\n",
    "- **MLflow Tracking** - Record and query experiments: code, data, config, and results\n",
    "- **MLflow Projects** - Package data science code in a format to reproduce runs on any platform\n",
    "- **MLflow Models** - Deploy machine learning models in diverse serving environments\n",
    "- **MLflow Registry** - Store, annotate, discover, and manage models in a central repository\n",
    "\n",
    "::: {.callout-note}\n",
    "MLflow Models and MLflow Registry are not within the scope of this training.\n",
    ":::"
   ]
  },
  {
   "cell_type": "markdown",
   "metadata": {},
   "source": [
    "### MLflow Tracking\n",
    "\n",
    "Key concepts in MLflow Tracking  \n",
    "\n",
    "- `Parameters`: key-value inputs to your code\n",
    "- `Metrics`: numeric values (can update over time)\n",
    "- `Tags and Notes`: information about a run\n",
    "- `Artifacts`: files, data, and models\n",
    "- `Source`: what code ran?\n",
    "- `Version`: what of the code?\n",
    "- `Run`: an instance of code that runs by MLflow\n",
    "- `Experiment`: {`Run`, ..., `Run`}"
   ]
  },
  {
   "cell_type": "markdown",
   "metadata": {},
   "source": []
  }
 ],
 "metadata": {
  "kernelspec": {
   "display_name": "Python 3",
   "language": "python",
   "name": "python3"
  },
  "language_info": {
   "codemirror_mode": {
    "name": "ipython",
    "version": 3
   },
   "file_extension": ".py",
   "mimetype": "text/x-python",
   "name": "python",
   "nbconvert_exporter": "python",
   "pygments_lexer": "ipython3",
   "version": "3.8.13 (default, Oct  4 2022, 14:00:32) \n[GCC 9.4.0]"
  },
  "orig_nbformat": 4,
  "vscode": {
   "interpreter": {
    "hash": "9ac03a0a6051494cc606d484d27d20fce22fb7b4d169f583271e11d5ba46a56e"
   }
  }
 },
 "nbformat": 4,
 "nbformat_minor": 2
}
