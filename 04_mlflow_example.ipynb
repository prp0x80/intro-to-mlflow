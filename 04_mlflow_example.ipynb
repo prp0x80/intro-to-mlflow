{
 "cells": [
  {
   "cell_type": "raw",
   "metadata": {},
   "source": [
    "---\n",
    "title: MLflow in Practice\n",
    "execute:\n",
    "  echo: true\n",
    "format: \n",
    "  html:\n",
    "    code-fold: false\n",
    "jupyter: python3\n",
    "---"
   ]
  },
  {
   "cell_type": "markdown",
   "metadata": {},
   "source": [
    "In this section, we will apply the MLflow concepts we have learned so far."
   ]
  },
  {
   "cell_type": "markdown",
   "metadata": {},
   "source": [
    "## Employee Attrition Detection\n",
    "\n",
    "**Objective**  \n",
    "\n",
    "Predict if an employee is likely to quit and identify the factors responsible - to allow HR to intervene on time and remedy the situation to prevent attrition.  While some level of attrition in a company is inevitable, minimizing it and being prepared for the cases that cannot be helped will significantly help improve the operations of most businesses.\n",
    "\n",
    "**Data**  \n",
    "\n",
    "The data set presents an employee survey from IBM, indicating if there is attrition or not. The data set contains approximately 1500 entries. Given the limited size of the data set, the model should only be expected to provide modest improvement in indentification of attrition vs a random allocation of probability of attrition."
   ]
  },
  {
   "cell_type": "markdown",
   "metadata": {},
   "source": [
    "## Import libraries\n",
    "\n",
    "MLflow supports wide variety of ML frameworks. For this example we will use the simple and popular `sklearn` library for training a model. Additionally, for clarity, we have abstracted the steps for ML classification into a `kainos_sklearn` package."
   ]
  },
  {
   "cell_type": "code",
   "execution_count": null,
   "metadata": {},
   "outputs": [],
   "source": [
    "import warnings\n",
    "\n",
    "import mlflow\n",
    "from sklearn.ensemble import RandomForestClassifier\n",
    "from sklearn.neural_network import MLPClassifier\n",
    "from sklearn.preprocessing import (\n",
    "    MinMaxScaler,\n",
    "    OneHotEncoder,\n",
    "    OrdinalEncoder,\n",
    "    RobustScaler,\n",
    "    StandardScaler,\n",
    ")\n",
    "\n",
    "from kainos_sklearn.classifier import *\n",
    "\n",
    "warnings.filterwarnings(action=\"ignore\")"
   ]
  },
  {
   "cell_type": "markdown",
   "metadata": {},
   "source": [
    "## Load data\n",
    "\n",
    "The hr attrition data is available in csv format, so we can easily load it into a pandas dataframe."
   ]
  },
  {
   "cell_type": "code",
   "execution_count": null,
   "metadata": {},
   "outputs": [],
   "source": [
    "data = load_csv(\"./data/hr_attrition.csv\")\n",
    "n_rows, n_cols = data.shape\n",
    "print(f\"Rows: {n_rows}, Columns: {n_cols}\")"
   ]
  },
  {
   "cell_type": "markdown",
   "metadata": {},
   "source": [
    "## Data Config\n",
    "\n",
    "The outcome of machine learning algorithm also depends on the tuning we apply to the data, hence it's important to keep a track of those too."
   ]
  },
  {
   "cell_type": "code",
   "execution_count": null,
   "metadata": {},
   "outputs": [],
   "source": [
    "drop_cols = [\n",
    "    \"EmployeeNumber\",\n",
    "    \"EmployeeCount\",\n",
    "    \"Over18\",\n",
    "    \"StandardHours\",\n",
    "    \"Attrition\",\n",
    "]\n",
    "\n",
    "label_col = \"Attrition\"\n",
    "\n",
    "test_size = 0.2\n",
    "category_threshold = 8\n",
    "feature_encoder = OrdinalEncoder\n",
    "feature_scaler = RobustScaler"
   ]
  },
  {
   "cell_type": "markdown",
   "metadata": {},
   "source": [
    "## ML Config\n",
    "\n",
    "ML parameters are another import set of values to be tracked. Each algorithm has it's own parameters and our goal of our experiments is to find the parameters that works best for achieving our objective."
   ]
  },
  {
   "cell_type": "code",
   "execution_count": null,
   "metadata": {},
   "outputs": [],
   "source": [
    "tracking_uri = \"http://localhost:5000\"\n",
    "experiment_name = \"attrition_rf\"\n",
    "sklearn_classifier = RandomForestClassifier\n",
    "model_params = dict(n_estimators=100, criterion=\"gini\")\n",
    "\n",
    "mlflow.set_tracking_uri(tracking_uri)\n",
    "mlflow.set_experiment(experiment_name);"
   ]
  },
  {
   "cell_type": "markdown",
   "metadata": {},
   "source": [
    "## Experiments\n",
    "\n",
    "This is an iterative step. Here we infuse the code with MLflow to allow us to record the data/ml parameters and metrics. The idea is to set the values in previous two cells (data and ml config) and run the experiment. The process is to be repeated until desired results are achieved."
   ]
  },
  {
   "cell_type": "code",
   "execution_count": null,
   "metadata": {},
   "outputs": [],
   "source": [
    "with mlflow.start_run() as run:\n",
    "    mlflow.log_param(\"feature_encoder\", feature_encoder.__name__)\n",
    "    mlflow.log_param(\"feature_scaler\", feature_scaler.__name__)\n",
    "    mlflow.log_param(\"sklearn_classifier\", sklearn_classifier.__name__)\n",
    "    mlflow.log_param(\"test_size\", test_size)\n",
    "    mlflow.log_params(model_params)\n",
    "    train_X, train_y, test_X, test_y = split_data(\n",
    "        data, drop_cols=drop_cols, label_col=label_col, test_size=test_size\n",
    "    )\n",
    "    model, labels_encoder, pipeline = train(\n",
    "        train_X,\n",
    "        train_y,\n",
    "        feature_encoder,\n",
    "        feature_scaler,\n",
    "        sklearn_classifier,\n",
    "        category_threshold,\n",
    "    )\n",
    "    mlflow.sklearn.log_model(model, \"hr-attrition-model\")\n",
    "    accuracy, precision, recall, f1, cm, plt_cm = evaluate(\n",
    "        model, labels_encoder, test_X, test_y\n",
    "    )\n",
    "    tp = cm[0][0]\n",
    "    tn = cm[1][1]\n",
    "    fp = cm[0][1]\n",
    "    fn = cm[1][0]\n",
    "    mlflow.log_metric(\"TP\", tp)\n",
    "    mlflow.log_metric(\"TN\", tn)\n",
    "    mlflow.log_metric(\"FP\", fp)\n",
    "    mlflow.log_metric(\"FN\", fn)\n",
    "    mlflow.log_metric(\"accuracy_score\", accuracy)\n",
    "    mlflow.log_metric(\"precision_score\", precision)\n",
    "    mlflow.log_metric(\"recall_score\", recall)\n",
    "    mlflow.log_metric(\"f1_score\", f1)\n",
    "    fig_name = \"confusion-matrix.png\"\n",
    "    plt_cm.savefig(fig_name)\n",
    "    mlflow.log_artifact(fig_name, \"confusion-matrix-plot\")"
   ]
  }
 ],
 "metadata": {
  "kernelspec": {
   "display_name": "Python 3.8.13 ('mlflow')",
   "language": "python",
   "name": "python3"
  },
  "language_info": {
   "codemirror_mode": {
    "name": "ipython",
    "version": 3
   },
   "file_extension": ".py",
   "mimetype": "text/x-python",
   "name": "python",
   "nbconvert_exporter": "python",
   "pygments_lexer": "ipython3",
   "version": "3.8.13"
  },
  "vscode": {
   "interpreter": {
    "hash": "1ee77cf0f9627e6db52f288da1fa8a7c6ea63a86e8cadbae2f766021f274d688"
   }
  }
 },
 "nbformat": 4,
 "nbformat_minor": 2
}
