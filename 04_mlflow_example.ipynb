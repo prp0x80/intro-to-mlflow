{
 "cells": [
  {
   "cell_type": "raw",
   "metadata": {},
   "source": [
    "---\n",
    "title: MLflow in Practice\n",
    "execute:\n",
    "  echo: true\n",
    "  freeze: auto\n",
    "format: \n",
    "  html:\n",
    "    code-fold: false\n",
    "jupyter: python3\n",
    "---"
   ]
  },
  {
   "cell_type": "markdown",
   "metadata": {},
   "source": [
    "In this section, we will apply the MLflow concepts we have learned so far."
   ]
  },
  {
   "cell_type": "markdown",
   "metadata": {},
   "source": [
    "## Employee Attrition Detection\n",
    "\n",
    "**Objective**  \n",
    "\n",
    "Predict if an employee is likely to quit and identify the factors responsible - to allow HR to intervene on time and remedy the situation to prevent attrition.  While some level of attrition in a company is inevitable, minimizing it and being prepared for the cases that cannot be helped will significantly help improve the operations of most businesses.\n",
    "\n",
    "**Data**  \n",
    "\n",
    "The data set presents an employee survey from IBM, indicating if there is attrition or not. The data set contains approximately 1500 entries. Given the limited size of the data set, the model should only be expected to provide modest improvement in indentification of attrition vs a random allocation of probability of attrition."
   ]
  },
  {
   "cell_type": "markdown",
   "metadata": {},
   "source": [
    "### Import libraries\n",
    "\n",
    "MLflow supports wide variety of ML frameworks. For this example we will use the simple and popular `sklearn` library for training a model. Additionally, for clarity, we have abstracted the steps for ML classification into a `kainos_sklearn` package."
   ]
  },
  {
   "cell_type": "code",
   "execution_count": 79,
   "metadata": {},
   "outputs": [],
   "source": [
    "import warnings\n",
    "\n",
    "import mlflow\n",
    "from mlflow.models.signature import infer_signature\n",
    "from sklearn.ensemble import RandomForestClassifier\n",
    "from sklearn.neural_network import MLPClassifier\n",
    "from sklearn.preprocessing import (\n",
    "    MinMaxScaler,\n",
    "    OneHotEncoder,\n",
    "    OrdinalEncoder,\n",
    "    RobustScaler,\n",
    "    StandardScaler,\n",
    ")\n",
    "\n",
    "from kainos_sklearn.classifier import *\n",
    "\n",
    "warnings.filterwarnings(action=\"ignore\")"
   ]
  },
  {
   "cell_type": "markdown",
   "metadata": {},
   "source": [
    "### Load data\n",
    "\n",
    "The hr attrition data is available in csv format, so we can easily load it into a pandas dataframe."
   ]
  },
  {
   "cell_type": "code",
   "execution_count": 80,
   "metadata": {},
   "outputs": [
    {
     "name": "stdout",
     "output_type": "stream",
     "text": [
      "Rows: 1470, Columns: 35\n"
     ]
    }
   ],
   "source": [
    "data = load_csv(\"./data/hr_attrition.csv\")\n",
    "\n",
    "n_rows, n_cols = data.shape\n",
    "print(f\"Rows: {n_rows}, Columns: {n_cols}\")"
   ]
  },
  {
   "cell_type": "markdown",
   "metadata": {},
   "source": [
    "### Data Config\n",
    "\n",
    "The outcome of machine learning algorithm also depends on the tuning we apply to the data, hence it's important to keep a track of those too."
   ]
  },
  {
   "cell_type": "code",
   "execution_count": 81,
   "metadata": {},
   "outputs": [],
   "source": [
    "drop_cols = [\n",
    "    \"EmployeeNumber\",\n",
    "    \"EmployeeCount\",\n",
    "    \"Over18\",\n",
    "    \"StandardHours\",\n",
    "    \"Attrition\",\n",
    "]\n",
    "\n",
    "label_col = \"Attrition\"\n",
    "\n",
    "test_size = 0.2\n",
    "category_threshold = 8\n",
    "feature_encoder = OneHotEncoder\n",
    "feature_scaler = StandardScaler"
   ]
  },
  {
   "cell_type": "markdown",
   "metadata": {},
   "source": [
    "### ML Config\n",
    "\n",
    "ML parameters are another import set of values to be tracked. Each algorithm has it's own parameters and our goal of our experiments is to find the parameters that works best for achieving our objective."
   ]
  },
  {
   "cell_type": "code",
   "execution_count": 74,
   "metadata": {},
   "outputs": [],
   "source": [
    "tracking_uri = \"http://localhost:5000\"\n",
    "experiment_name = \"attrition_rf\"\n",
    "\n",
    "# set sklearn classifer model and it's parameters\n",
    "sklearn_classifier = RandomForestClassifier\n",
    "model_params = dict(n_estimators=100, criterion=\"gini\", random_state=42)\n",
    "\n",
    "mlflow.set_tracking_uri(tracking_uri)\n",
    "mlflow.set_experiment(experiment_name);"
   ]
  },
  {
   "cell_type": "markdown",
   "metadata": {},
   "source": [
    "### Experiments\n",
    "\n",
    "This is an iterative step. Here we infuse the code with MLflow to allow us to record the data/ml parameters and metrics. The idea is to set the values in previous two cells (data and ml config) and run the experiment. The process is to be repeated until desired results are achieved."
   ]
  },
  {
   "cell_type": "code",
   "execution_count": 75,
   "metadata": {},
   "outputs": [
    {
     "data": {
      "image/png": "[encoded data removed]",
      "text/plain": [
       "<Figure size 640x480 with 2 Axes>"
      ]
     },
     "metadata": {},
     "output_type": "display_data"
    }
   ],
   "source": [
    "# | output: false\n",
    "\n",
    "with mlflow.start_run() as run:\n",
    "\n",
    "    # log data and ml config\n",
    "    mlflow.log_param(\"feature_encoder\", feature_encoder.__name__)\n",
    "    mlflow.log_param(\"feature_scaler\", feature_scaler.__name__)\n",
    "    mlflow.log_param(\"sklearn_classifier\", sklearn_classifier.__name__)\n",
    "    mlflow.log_param(\"test_size\", test_size)\n",
    "    mlflow.log_params(model_params)\n",
    "\n",
    "    # split data\n",
    "    train_X, train_y, test_X, test_y = split_data(\n",
    "        data, drop_cols=drop_cols, label_col=label_col, test_size=test_size\n",
    "    )\n",
    "\n",
    "    # train model\n",
    "    model, labels_encoder = train(\n",
    "        train_X,\n",
    "        train_y,\n",
    "        feature_encoder,\n",
    "        feature_scaler,\n",
    "        sklearn_classifier,\n",
    "        category_threshold,\n",
    "    )\n",
    "\n",
    "    # log model\n",
    "    signature = infer_signature(train_X, model.predict(train_X.sample(100)))\n",
    "    mlflow.sklearn.log_model(model, \"hr-attrition-model\", signature=signature)\n",
    "\n",
    "    # evaluate on test data using trained model\n",
    "    accuracy, precision, recall, f1, cm, plt_cm = evaluate(\n",
    "        model, labels_encoder, test_X, test_y\n",
    "    )\n",
    "\n",
    "    # log metrics\n",
    "    tp = cm[0][0]\n",
    "    tn = cm[1][1]\n",
    "    fp = cm[0][1]\n",
    "    fn = cm[1][0]\n",
    "    mlflow.log_metric(\"TP\", tp)\n",
    "    mlflow.log_metric(\"TN\", tn)\n",
    "    mlflow.log_metric(\"FP\", fp)\n",
    "    mlflow.log_metric(\"FN\", fn)\n",
    "    mlflow.log_metric(\"accuracy_score\", accuracy)\n",
    "    mlflow.log_metric(\"precision_score\", precision)\n",
    "    mlflow.log_metric(\"recall_score\", recall)\n",
    "    mlflow.log_metric(\"f1_score\", f1)\n",
    "\n",
    "    # log figure as artifact\n",
    "    fig_name = \"confusion-matrix.png\"\n",
    "    plt_cm.savefig(fig_name)\n",
    "    mlflow.log_artifact(fig_name, \"confusion-matrix-plot\")"
   ]
  },
  {
   "cell_type": "code",
   "execution_count": 76,
   "metadata": {},
   "outputs": [
    {
     "data": {
      "text/html": [
       "<style>#sk-container-id-4 {color: black;background-color: white;}#sk-container-id-4 pre{padding: 0;}#sk-container-id-4 div.sk-toggleable {background-color: white;}#sk-container-id-4 label.sk-toggleable__label {cursor: pointer;display: block;width: 100%;margin-bottom: 0;padding: 0.3em;box-sizing: border-box;text-align: center;}#sk-container-id-4 label.sk-toggleable__label-arrow:before {content: \"▸\";float: left;margin-right: 0.25em;color: #696969;}#sk-container-id-4 label.sk-toggleable__label-arrow:hover:before {color: black;}#sk-container-id-4 div.sk-estimator:hover label.sk-toggleable__label-arrow:before {color: black;}#sk-container-id-4 div.sk-toggleable__content {max-height: 0;max-width: 0;overflow: hidden;text-align: left;background-color: #f0f8ff;}#sk-container-id-4 div.sk-toggleable__content pre {margin: 0.2em;color: black;border-radius: 0.25em;background-color: #f0f8ff;}#sk-container-id-4 input.sk-toggleable__control:checked~div.sk-toggleable__content {max-height: 200px;max-width: 100%;overflow: auto;}#sk-container-id-4 input.sk-toggleable__control:checked~label.sk-toggleable__label-arrow:before {content: \"▾\";}#sk-container-id-4 div.sk-estimator input.sk-toggleable__control:checked~label.sk-toggleable__label {background-color: #d4ebff;}#sk-container-id-4 div.sk-label input.sk-toggleable__control:checked~label.sk-toggleable__label {background-color: #d4ebff;}#sk-container-id-4 input.sk-hidden--visually {border: 0;clip: rect(1px 1px 1px 1px);clip: rect(1px, 1px, 1px, 1px);height: 1px;margin: -1px;overflow: hidden;padding: 0;position: absolute;width: 1px;}#sk-container-id-4 div.sk-estimator {font-family: monospace;background-color: #f0f8ff;border: 1px dotted black;border-radius: 0.25em;box-sizing: border-box;margin-bottom: 0.5em;}#sk-container-id-4 div.sk-estimator:hover {background-color: #d4ebff;}#sk-container-id-4 div.sk-parallel-item::after {content: \"\";width: 100%;border-bottom: 1px solid gray;flex-grow: 1;}#sk-container-id-4 div.sk-label:hover label.sk-toggleable__label {background-color: #d4ebff;}#sk-container-id-4 div.sk-serial::before {content: \"\";position: absolute;border-left: 1px solid gray;box-sizing: border-box;top: 0;bottom: 0;left: 50%;z-index: 0;}#sk-container-id-4 div.sk-serial {display: flex;flex-direction: column;align-items: center;background-color: white;padding-right: 0.2em;padding-left: 0.2em;position: relative;}#sk-container-id-4 div.sk-item {position: relative;z-index: 1;}#sk-container-id-4 div.sk-parallel {display: flex;align-items: stretch;justify-content: center;background-color: white;position: relative;}#sk-container-id-4 div.sk-item::before, #sk-container-id-4 div.sk-parallel-item::before {content: \"\";position: absolute;border-left: 1px solid gray;box-sizing: border-box;top: 0;bottom: 0;left: 50%;z-index: -1;}#sk-container-id-4 div.sk-parallel-item {display: flex;flex-direction: column;z-index: 1;position: relative;background-color: white;}#sk-container-id-4 div.sk-parallel-item:first-child::after {align-self: flex-end;width: 50%;}#sk-container-id-4 div.sk-parallel-item:last-child::after {align-self: flex-start;width: 50%;}#sk-container-id-4 div.sk-parallel-item:only-child::after {width: 0;}#sk-container-id-4 div.sk-dashed-wrapped {border: 1px dashed gray;margin: 0 0.4em 0.5em 0.4em;box-sizing: border-box;padding-bottom: 0.4em;background-color: white;}#sk-container-id-4 div.sk-label label {font-family: monospace;font-weight: bold;display: inline-block;line-height: 1.2em;}#sk-container-id-4 div.sk-label-container {text-align: center;}#sk-container-id-4 div.sk-container {/* jupyter's `normalize.less` sets `[hidden] { display: none; }` but bootstrap.min.css set `[hidden] { display: none !important; }` so we also need the `!important` here to be able to override the default hidden behavior on the sphinx rendered scikit-learn.org. See: https://github.com/scikit-learn/scikit-learn/issues/21755 */display: inline-block !important;position: relative;}#sk-container-id-4 div.sk-text-repr-fallback {display: none;}</style><div id=\"sk-container-id-4\" class=\"sk-top-container\"><div class=\"sk-text-repr-fallback\"><pre>Pipeline(steps=[(&#x27;data_preprocessor&#x27;,\n",
       "                 ColumnTransformer(transformers=[(&#x27;encoder&#x27;, OneHotEncoder(),\n",
       "                                                  [&#x27;BusinessTravel&#x27;,\n",
       "                                                   &#x27;Department&#x27;, &#x27;Education&#x27;,\n",
       "                                                   &#x27;EducationField&#x27;,\n",
       "                                                   &#x27;EnvironmentSatisfaction&#x27;,\n",
       "                                                   &#x27;Gender&#x27;, &#x27;JobInvolvement&#x27;,\n",
       "                                                   &#x27;JobLevel&#x27;,\n",
       "                                                   &#x27;JobSatisfaction&#x27;,\n",
       "                                                   &#x27;MaritalStatus&#x27;, &#x27;OverTime&#x27;,\n",
       "                                                   &#x27;PerformanceRating&#x27;,\n",
       "                                                   &#x27;RelationshipSatisfaction&#x27;,\n",
       "                                                   &#x27;StockOptionLevel&#x27;,\n",
       "                                                   &#x27;TrainingTimesLastYe...\n",
       "       &#x27;JobSatisfaction&#x27;, &#x27;MonthlyIncome&#x27;, &#x27;MonthlyRate&#x27;, &#x27;NumCompaniesWorked&#x27;,\n",
       "       &#x27;PercentSalaryHike&#x27;, &#x27;PerformanceRating&#x27;, &#x27;RelationshipSatisfaction&#x27;,\n",
       "       &#x27;StockOptionLevel&#x27;, &#x27;TotalWorkingYears&#x27;, &#x27;TrainingTimesLastYear&#x27;,\n",
       "       &#x27;WorkLifeBalance&#x27;, &#x27;YearsAtCompany&#x27;, &#x27;YearsInCurrentRole&#x27;,\n",
       "       &#x27;YearsSinceLastPromotion&#x27;, &#x27;YearsWithCurrManager&#x27;],\n",
       "      dtype=&#x27;object&#x27;))])),\n",
       "                (&#x27;classifier&#x27;, RandomForestClassifier())])</pre><b>In a Jupyter environment, please rerun this cell to show the HTML representation or trust the notebook. <br />On GitHub, the HTML representation is unable to render, please try loading this page with nbviewer.org.</b></div><div class=\"sk-container\" hidden><div class=\"sk-item sk-dashed-wrapped\"><div class=\"sk-label-container\"><div class=\"sk-label sk-toggleable\"><input class=\"sk-toggleable__control sk-hidden--visually\" id=\"sk-estimator-id-22\" type=\"checkbox\" ><label for=\"sk-estimator-id-22\" class=\"sk-toggleable__label sk-toggleable__label-arrow\">Pipeline</label><div class=\"sk-toggleable__content\"><pre>Pipeline(steps=[(&#x27;data_preprocessor&#x27;,\n",
       "                 ColumnTransformer(transformers=[(&#x27;encoder&#x27;, OneHotEncoder(),\n",
       "                                                  [&#x27;BusinessTravel&#x27;,\n",
       "                                                   &#x27;Department&#x27;, &#x27;Education&#x27;,\n",
       "                                                   &#x27;EducationField&#x27;,\n",
       "                                                   &#x27;EnvironmentSatisfaction&#x27;,\n",
       "                                                   &#x27;Gender&#x27;, &#x27;JobInvolvement&#x27;,\n",
       "                                                   &#x27;JobLevel&#x27;,\n",
       "                                                   &#x27;JobSatisfaction&#x27;,\n",
       "                                                   &#x27;MaritalStatus&#x27;, &#x27;OverTime&#x27;,\n",
       "                                                   &#x27;PerformanceRating&#x27;,\n",
       "                                                   &#x27;RelationshipSatisfaction&#x27;,\n",
       "                                                   &#x27;StockOptionLevel&#x27;,\n",
       "                                                   &#x27;TrainingTimesLastYe...\n",
       "       &#x27;JobSatisfaction&#x27;, &#x27;MonthlyIncome&#x27;, &#x27;MonthlyRate&#x27;, &#x27;NumCompaniesWorked&#x27;,\n",
       "       &#x27;PercentSalaryHike&#x27;, &#x27;PerformanceRating&#x27;, &#x27;RelationshipSatisfaction&#x27;,\n",
       "       &#x27;StockOptionLevel&#x27;, &#x27;TotalWorkingYears&#x27;, &#x27;TrainingTimesLastYear&#x27;,\n",
       "       &#x27;WorkLifeBalance&#x27;, &#x27;YearsAtCompany&#x27;, &#x27;YearsInCurrentRole&#x27;,\n",
       "       &#x27;YearsSinceLastPromotion&#x27;, &#x27;YearsWithCurrManager&#x27;],\n",
       "      dtype=&#x27;object&#x27;))])),\n",
       "                (&#x27;classifier&#x27;, RandomForestClassifier())])</pre></div></div></div><div class=\"sk-serial\"><div class=\"sk-item sk-dashed-wrapped\"><div class=\"sk-label-container\"><div class=\"sk-label sk-toggleable\"><input class=\"sk-toggleable__control sk-hidden--visually\" id=\"sk-estimator-id-23\" type=\"checkbox\" ><label for=\"sk-estimator-id-23\" class=\"sk-toggleable__label sk-toggleable__label-arrow\">data_preprocessor: ColumnTransformer</label><div class=\"sk-toggleable__content\"><pre>ColumnTransformer(transformers=[(&#x27;encoder&#x27;, OneHotEncoder(),\n",
       "                                 [&#x27;BusinessTravel&#x27;, &#x27;Department&#x27;, &#x27;Education&#x27;,\n",
       "                                  &#x27;EducationField&#x27;, &#x27;EnvironmentSatisfaction&#x27;,\n",
       "                                  &#x27;Gender&#x27;, &#x27;JobInvolvement&#x27;, &#x27;JobLevel&#x27;,\n",
       "                                  &#x27;JobSatisfaction&#x27;, &#x27;MaritalStatus&#x27;,\n",
       "                                  &#x27;OverTime&#x27;, &#x27;PerformanceRating&#x27;,\n",
       "                                  &#x27;RelationshipSatisfaction&#x27;,\n",
       "                                  &#x27;StockOptionLevel&#x27;, &#x27;TrainingTimesLastYear&#x27;,\n",
       "                                  &#x27;WorkLifeBalance&#x27;]),\n",
       "                                (&#x27;scaler&#x27;, Sta...\n",
       "       &#x27;EnvironmentSatisfaction&#x27;, &#x27;HourlyRate&#x27;, &#x27;JobInvolvement&#x27;, &#x27;JobLevel&#x27;,\n",
       "       &#x27;JobSatisfaction&#x27;, &#x27;MonthlyIncome&#x27;, &#x27;MonthlyRate&#x27;, &#x27;NumCompaniesWorked&#x27;,\n",
       "       &#x27;PercentSalaryHike&#x27;, &#x27;PerformanceRating&#x27;, &#x27;RelationshipSatisfaction&#x27;,\n",
       "       &#x27;StockOptionLevel&#x27;, &#x27;TotalWorkingYears&#x27;, &#x27;TrainingTimesLastYear&#x27;,\n",
       "       &#x27;WorkLifeBalance&#x27;, &#x27;YearsAtCompany&#x27;, &#x27;YearsInCurrentRole&#x27;,\n",
       "       &#x27;YearsSinceLastPromotion&#x27;, &#x27;YearsWithCurrManager&#x27;],\n",
       "      dtype=&#x27;object&#x27;))])</pre></div></div></div><div class=\"sk-parallel\"><div class=\"sk-parallel-item\"><div class=\"sk-item\"><div class=\"sk-label-container\"><div class=\"sk-label sk-toggleable\"><input class=\"sk-toggleable__control sk-hidden--visually\" id=\"sk-estimator-id-24\" type=\"checkbox\" ><label for=\"sk-estimator-id-24\" class=\"sk-toggleable__label sk-toggleable__label-arrow\">encoder</label><div class=\"sk-toggleable__content\"><pre>[&#x27;BusinessTravel&#x27;, &#x27;Department&#x27;, &#x27;Education&#x27;, &#x27;EducationField&#x27;, &#x27;EnvironmentSatisfaction&#x27;, &#x27;Gender&#x27;, &#x27;JobInvolvement&#x27;, &#x27;JobLevel&#x27;, &#x27;JobSatisfaction&#x27;, &#x27;MaritalStatus&#x27;, &#x27;OverTime&#x27;, &#x27;PerformanceRating&#x27;, &#x27;RelationshipSatisfaction&#x27;, &#x27;StockOptionLevel&#x27;, &#x27;TrainingTimesLastYear&#x27;, &#x27;WorkLifeBalance&#x27;]</pre></div></div></div><div class=\"sk-serial\"><div class=\"sk-item\"><div class=\"sk-estimator sk-toggleable\"><input class=\"sk-toggleable__control sk-hidden--visually\" id=\"sk-estimator-id-25\" type=\"checkbox\" ><label for=\"sk-estimator-id-25\" class=\"sk-toggleable__label sk-toggleable__label-arrow\">OneHotEncoder</label><div class=\"sk-toggleable__content\"><pre>OneHotEncoder()</pre></div></div></div></div></div></div><div class=\"sk-parallel-item\"><div class=\"sk-item\"><div class=\"sk-label-container\"><div class=\"sk-label sk-toggleable\"><input class=\"sk-toggleable__control sk-hidden--visually\" id=\"sk-estimator-id-26\" type=\"checkbox\" ><label for=\"sk-estimator-id-26\" class=\"sk-toggleable__label sk-toggleable__label-arrow\">scaler</label><div class=\"sk-toggleable__content\"><pre>Index([&#x27;Age&#x27;, &#x27;DailyRate&#x27;, &#x27;DistanceFromHome&#x27;, &#x27;Education&#x27;,\n",
       "       &#x27;EnvironmentSatisfaction&#x27;, &#x27;HourlyRate&#x27;, &#x27;JobInvolvement&#x27;, &#x27;JobLevel&#x27;,\n",
       "       &#x27;JobSatisfaction&#x27;, &#x27;MonthlyIncome&#x27;, &#x27;MonthlyRate&#x27;, &#x27;NumCompaniesWorked&#x27;,\n",
       "       &#x27;PercentSalaryHike&#x27;, &#x27;PerformanceRating&#x27;, &#x27;RelationshipSatisfaction&#x27;,\n",
       "       &#x27;StockOptionLevel&#x27;, &#x27;TotalWorkingYears&#x27;, &#x27;TrainingTimesLastYear&#x27;,\n",
       "       &#x27;WorkLifeBalance&#x27;, &#x27;YearsAtCompany&#x27;, &#x27;YearsInCurrentRole&#x27;,\n",
       "       &#x27;YearsSinceLastPromotion&#x27;, &#x27;YearsWithCurrManager&#x27;],\n",
       "      dtype=&#x27;object&#x27;)</pre></div></div></div><div class=\"sk-serial\"><div class=\"sk-item\"><div class=\"sk-estimator sk-toggleable\"><input class=\"sk-toggleable__control sk-hidden--visually\" id=\"sk-estimator-id-27\" type=\"checkbox\" ><label for=\"sk-estimator-id-27\" class=\"sk-toggleable__label sk-toggleable__label-arrow\">StandardScaler</label><div class=\"sk-toggleable__content\"><pre>StandardScaler()</pre></div></div></div></div></div></div></div></div><div class=\"sk-item\"><div class=\"sk-estimator sk-toggleable\"><input class=\"sk-toggleable__control sk-hidden--visually\" id=\"sk-estimator-id-28\" type=\"checkbox\" ><label for=\"sk-estimator-id-28\" class=\"sk-toggleable__label sk-toggleable__label-arrow\">RandomForestClassifier</label><div class=\"sk-toggleable__content\"><pre>RandomForestClassifier()</pre></div></div></div></div></div></div></div>"
      ],
      "text/plain": [
       "Pipeline(steps=[('data_preprocessor',\n",
       "                 ColumnTransformer(transformers=[('encoder', OneHotEncoder(),\n",
       "                                                  ['BusinessTravel',\n",
       "                                                   'Department', 'Education',\n",
       "                                                   'EducationField',\n",
       "                                                   'EnvironmentSatisfaction',\n",
       "                                                   'Gender', 'JobInvolvement',\n",
       "                                                   'JobLevel',\n",
       "                                                   'JobSatisfaction',\n",
       "                                                   'MaritalStatus', 'OverTime',\n",
       "                                                   'PerformanceRating',\n",
       "                                                   'RelationshipSatisfaction',\n",
       "                                                   'StockOptionLevel',\n",
       "                                                   'TrainingTimesLastYe...\n",
       "       'JobSatisfaction', 'MonthlyIncome', 'MonthlyRate', 'NumCompaniesWorked',\n",
       "       'PercentSalaryHike', 'PerformanceRating', 'RelationshipSatisfaction',\n",
       "       'StockOptionLevel', 'TotalWorkingYears', 'TrainingTimesLastYear',\n",
       "       'WorkLifeBalance', 'YearsAtCompany', 'YearsInCurrentRole',\n",
       "       'YearsSinceLastPromotion', 'YearsWithCurrManager'],\n",
       "      dtype='object'))])),\n",
       "                ('classifier', RandomForestClassifier())])"
      ]
     },
     "execution_count": 76,
     "metadata": {},
     "output_type": "execute_result"
    }
   ],
   "source": [
    "# | echo: false\n",
    "model"
   ]
  },
  {
   "cell_type": "code",
   "execution_count": 77,
   "metadata": {},
   "outputs": [
    {
     "name": "stdout",
     "output_type": "stream",
     "text": [
      "accuracy_score: 0.86\n",
      "precision_score: 0.89\n",
      "recall_score: 0.17\n",
      "f1_score: 0.29\n"
     ]
    }
   ],
   "source": [
    "# | echo: false\n",
    "print(f\"accuracy_score: {round(accuracy, 2)}\")\n",
    "print(f\"precision_score: {round(precision, 2)}\")\n",
    "print(f\"recall_score: {round(recall, 2)}\")\n",
    "print(f\"f1_score: {round(f1, 2)}\")"
   ]
  },
  {
   "cell_type": "markdown",
   "metadata": {},
   "source": [
    "## MLflow Models\n",
    "\n",
    "MLflow logs a standard model format for each run and makes it available to be consumed by various downstream tools - for example, real-time serving through REST API or batch inference on Apache Spark.  \n",
    "\n",
    "> In this tutorial, we will serve our model for real-time prediction using REST API.  \n",
    "\n",
    "Each **MLflow Model** is a directory containing arbitrary files, together with an `MLmodel` file in the root of the directory that can define multiple **flavors** that the model can be viewed in. If we look at the structure of our logged scikit-learn model, it looks as follows:\n",
    "\n",
    "```\n",
    "hr-attrition-model/\n",
    "├── MLmodel\n",
    "├── model.pkl\n",
    "├── conda.yaml\n",
    "├── python_env.yaml\n",
    "└── requirements.txt\n",
    "```\n",
    "\n",
    "The `MLmodel` file stores the information about all the flavours in which the saved model is available. In our case, the file describes two flavours.\n",
    "\n",
    "```yml\n",
    "artifact_path: hr-attrition-model\n",
    "flavors:\n",
    "  python_function:\n",
    "    env: conda.yaml\n",
    "    loader_module: mlflow.sklearn\n",
    "    model_path: model.pkl\n",
    "    predict_fn: predict\n",
    "    python_version: 3.8.13\n",
    "  sklearn:\n",
    "    code: null\n",
    "    pickled_model: model.pkl\n",
    "    serialization_format: cloudpickle\n",
    "    sklearn_version: 1.1.3\n",
    "mlflow_version: 1.30.0\n",
    "```\n",
    "\n",
    "This model can then be used with any tool that supports either the `sklearn` or `python_function` model flavor. For example, the mlflow models serve command can serve a model with the `python_function`:\n",
    "\n",
    "```bash\n",
    "mlflow models serve \\\n",
    "  -m 'runs:/cf70d23652c343e08a68cf9a88697528/hr-attrition-model' \\\n",
    "  --port 8123 \\\n",
    "  --no-conda\n",
    "```"
   ]
  },
  {
   "cell_type": "markdown",
   "metadata": {},
   "source": [
    "### MLflow Model Serving\n",
    "\n",
    "The served MLflow model is available as an endpoint and can be used as follows:"
   ]
  },
  {
   "cell_type": "code",
   "execution_count": 78,
   "metadata": {},
   "outputs": [
    {
     "name": "stdout",
     "output_type": "stream",
     "text": [
      "[0]\n"
     ]
    }
   ],
   "source": [
    "# | output: false\n",
    "\n",
    "import requests\n",
    "\n",
    "api_endpoint = \"http://localhost:8123/invocations\"\n",
    "data = test_X[0:1].to_json(orient=\"records\")\n",
    "headers = {\"Content-Type\": \"application/json\"}\n",
    "response = requests.post(url=api_endpoint, data=data, headers=headers)\n",
    "prediction = response.text\n",
    "print(prediction)"
   ]
  },
  {
   "cell_type": "markdown",
   "metadata": {},
   "source": [
    "## Excercise\n",
    "\n",
    "- Run more experiments on the attrition data [Update the same notebook]\n",
    "    - Try few more sklearn classifier models on the attrition data and see if you are able to get better f1-score\n",
    "    - Check if you are able to compare results across experiments\n",
    "    - Register the model that gave you the best `f1-score`\n",
    "- Update your ML training code to use MLflow for tracking experiments [Create a new notebook]\n",
    "    - Make this part of the `intro-to-mlflow` repository you forked on Github\n",
    "    - Register the model and create multiple version\n",
    "    - Serve the model using `mlflow serve` cli and send a `POST` request to the `REST API`\n",
    "\n",
    "## Further Reading\n",
    "\n",
    "- [Continuous Delivery for Machine Learning](https://martinfowler.com/articles/cd4ml.html)"
   ]
  },
  {
   "cell_type": "markdown",
   "metadata": {},
   "source": []
  }
 ],
 "metadata": {
  "kernelspec": {
   "display_name": "Python 3",
   "language": "python",
   "name": "python3"
  },
  "language_info": {
   "codemirror_mode": {
    "name": "ipython",
    "version": 3
   },
   "file_extension": ".py",
   "mimetype": "text/x-python",
   "name": "python",
   "nbconvert_exporter": "python",
   "pygments_lexer": "ipython3",
   "version": "3.8.13 (default, Oct  4 2022, 14:00:32) \n[GCC 9.4.0]"
  },
  "vscode": {
   "interpreter": {
    "hash": "9ac03a0a6051494cc606d484d27d20fce22fb7b4d169f583271e11d5ba46a56e"
   }
  }
 },
 "nbformat": 4,
 "nbformat_minor": 2
}
